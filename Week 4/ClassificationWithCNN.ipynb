{
 "cells": [
  {
   "cell_type": "markdown",
   "metadata": {},
   "source": [
    "# Practical Machine Learning for Physicists\n",
    "## Week 2 Exercise - Part 1\n",
    "## Deadline Monday 9th November at 12pm (Noon)"
   ]
  },
  {
   "cell_type": "markdown",
   "metadata": {},
   "source": [
    "### Task 1:\n",
    "Design, implement and test a neural network utilising a single convolutional layer (use as many other non convolutional layers as you need) to classify the MNIST handwritten digits. What is the maximum test accuracry you can achieve using a single convolutional layer?\n",
    "\n",
    "### Task 2:\n",
    "Design, implement and test a neural network utitlising multiple convolutional layers (again use as many other non convolutinal laters as you need) to classify the MNIST handwritten digits. What is the maximum test accuracry you can achieve using as many convolutional layers as you like?\n",
    "\n",
    "#### Practicalities\n",
    "You should use this notebook for your work and upload it to both Moodle and CoCalc. You are expected to use TensorFlow and Keras to complete these takss. The notebook should be self-contained and able to be executed if necessary. Marks will be awarded for (roughly equally weighted):\n",
    "- Overall notebook clarity (both in terms of good coding practice and coherent discussion)\n",
    "- Network performance (how well does your classifier do?)\n",
    "- Network efficiency (how does your network compare to the optimum networks for this task?)\n",
    "- Network training (do you do a good job of traning your network?)\n"
   ]
  },
  {
   "cell_type": "markdown",
   "metadata": {},
   "source": [
    "# Task 1\n",
    "\n",
    "Firstly let's import the modules we need"
   ]
  },
  {
   "cell_type": "code",
   "execution_count": 2,
   "metadata": {},
   "outputs": [
    {
     "name": "stdout",
     "output_type": "stream",
     "text": [
      "2.7.0\n"
     ]
    }
   ],
   "source": [
    "import matplotlib.pyplot as plt\n",
    "import numpy as np\n",
    "import math\n",
    "\n",
    "# TensorFlow and tf.keras\n",
    "import tensorflow as tf\n",
    "from tensorflow import keras\n",
    "\n",
    "import matplotlib.style #Some style nonsense\n",
    "import matplotlib as mpl #Some more style nonsense\n",
    "\n",
    "\n",
    "#Set default figure size\n",
    "mpl.rcParams[\"legend.frameon\"] = False\n",
    "mpl.rcParams['figure.dpi']=200 # dots per inch\n",
    "\n",
    "#Useful for debugging problems\n",
    "print(tf.__version__)"
   ]
  },
  {
   "cell_type": "markdown",
   "metadata": {},
   "source": [
    "### Importing MNIST\n",
    "\n",
    "Now let's import the MNIST dataset"
   ]
  },
  {
   "cell_type": "code",
   "execution_count": 3,
   "metadata": {},
   "outputs": [
    {
     "name": "stdout",
     "output_type": "stream",
     "text": [
      "Downloading data from https://storage.googleapis.com/tensorflow/tf-keras-datasets/mnist.npz\n",
      "11493376/11490434 [==============================] - 1s 0us/step\n",
      "11501568/11490434 [==============================] - 1s 0us/step\n"
     ]
    }
   ],
   "source": [
    "mnist = keras.datasets.mnist   #The original handwritten digit MNIST\n",
    "(train_images, train_labels), (test_images, test_labels) = mnist.load_data()\n",
    "\n",
    "# get pixel values from range [0,255] to range [0,1]\n",
    "train_images=train_images/255.0\n",
    "test_images=test_images/255.0"
   ]
  },
  {
   "cell_type": "markdown",
   "metadata": {},
   "source": [
    "Now we need to reshape the dimension of the images we will input to our model"
   ]
  },
  {
   "cell_type": "code",
   "execution_count": 4,
   "metadata": {},
   "outputs": [
    {
     "name": "stderr",
     "output_type": "stream",
     "text": [
      "2021-12-27 12:17:42.513838: I tensorflow/core/platform/cpu_feature_guard.cc:151] This TensorFlow binary is optimized with oneAPI Deep Neural Network Library (oneDNN) to use the following CPU instructions in performance-critical operations:  AVX2 FMA\n",
      "To enable them in other operations, rebuild TensorFlow with the appropriate compiler flags.\n"
     ]
    }
   ],
   "source": [
    "train_images = tf.expand_dims(train_images, axis=-1)  # reshaping input train images\n",
    "test_images =  tf.expand_dims(test_images, axis=-1)   # reshaping test images"
   ]
  },
  {
   "cell_type": "markdown",
   "metadata": {},
   "source": [
    "### Build the model\n",
    "\n",
    "Now we will define our model, it will have a single convolutional layer and one pooling layer."
   ]
  },
  {
   "cell_type": "code",
   "execution_count": 5,
   "metadata": {},
   "outputs": [
    {
     "name": "stdout",
     "output_type": "stream",
     "text": [
      "Model: \"sequential\"\n",
      "_________________________________________________________________\n",
      " Layer (type)                Output Shape              Param #   \n",
      "=================================================================\n",
      " conv2d (Conv2D)             (None, 26, 26, 18)        180       \n",
      "                                                                 \n",
      " max_pooling2d (MaxPooling2D  (None, 13, 13, 18)       0         \n",
      " )                                                               \n",
      "                                                                 \n",
      " flatten (Flatten)           (None, 3042)              0         \n",
      "                                                                 \n",
      " dense (Dense)               (None, 30)                91290     \n",
      "                                                                 \n",
      " dense_1 (Dense)             (None, 10)                310       \n",
      "                                                                 \n",
      "=================================================================\n",
      "Total params: 91,780\n",
      "Trainable params: 91,780\n",
      "Non-trainable params: 0\n",
      "_________________________________________________________________\n"
     ]
    }
   ],
   "source": [
    "model = keras.models.Sequential()\n",
    "model.add(keras.layers.Conv2D(18, (3, 3), activation='relu', input_shape=(28, 28,1)))\n",
    "model.add(keras.layers.MaxPooling2D((2, 2)))\n",
    "model.add(keras.layers.Flatten())\n",
    "model.add(keras.layers.Dense(30, activation='relu'))\n",
    "model.add(keras.layers.Dense(10))\n",
    "\n",
    "model.summary()"
   ]
  },
  {
   "cell_type": "markdown",
   "metadata": {},
   "source": [
    "### Train the model\n",
    "\n",
    "Now what is left to do is compiling and training our model"
   ]
  },
  {
   "cell_type": "code",
   "execution_count": 6,
   "metadata": {},
   "outputs": [
    {
     "name": "stdout",
     "output_type": "stream",
     "text": [
      "Epoch 1/5\n",
      "500/500 [==============================] - 7s 13ms/step - loss: 0.3005 - accuracy: 0.9173 - val_loss: 0.1168 - val_accuracy: 0.9662\n",
      "Epoch 2/5\n",
      "500/500 [==============================] - 6s 12ms/step - loss: 0.0922 - accuracy: 0.9739 - val_loss: 0.0691 - val_accuracy: 0.9779\n",
      "Epoch 3/5\n",
      "500/500 [==============================] - 6s 13ms/step - loss: 0.0663 - accuracy: 0.9808 - val_loss: 0.0703 - val_accuracy: 0.9775\n",
      "Epoch 4/5\n",
      "500/500 [==============================] - 6s 12ms/step - loss: 0.0543 - accuracy: 0.9840 - val_loss: 0.0522 - val_accuracy: 0.9843\n",
      "Epoch 5/5\n",
      "500/500 [==============================] - 6s 12ms/step - loss: 0.0457 - accuracy: 0.9866 - val_loss: 0.0527 - val_accuracy: 0.9814\n"
     ]
    }
   ],
   "source": [
    "model.compile(optimizer='adam',\n",
    "              loss=tf.keras.losses.SparseCategoricalCrossentropy(from_logits=True),\n",
    "              metrics=['accuracy'])\n",
    "\n",
    "history = model.fit(train_images, train_labels, epochs=5, \n",
    "                    validation_data=(test_images, test_labels),steps_per_epoch=500)"
   ]
  },
  {
   "cell_type": "code",
   "execution_count": 7,
   "metadata": {},
   "outputs": [
    {
     "name": "stdout",
     "output_type": "stream",
     "text": [
      "[5 0 4 1 9 2 1 3 1 4 3 5 3 6 1 7 2 8 6 9 4 0 9 1 1 2 4 3 2 7 3 8 6 9 0 5 6\n",
      " 0 7 6 1 8 7 9 3 9 8 5 9 3 3 0 7 4 9 8 0 9 4 1 4 4 6 0 4 5 6 1 0 0 1 7 1 6\n",
      " 3 0 2 1 1 7 9 0 2 6 7 8 3 9 0 4 6 7 4 6 8 0 7 8 3 1]\n"
     ]
    }
   ],
   "source": [
    "print(train_labels[:100])"
   ]
  },
  {
   "cell_type": "markdown",
   "metadata": {},
   "source": [
    "### Evaluate Performance\n",
    "\n",
    "Finally let's evaluate the model performance"
   ]
  },
  {
   "cell_type": "code",
   "execution_count": 29,
   "metadata": {},
   "outputs": [
    {
     "name": "stdout",
     "output_type": "stream",
     "text": [
      "313/313 - 0s - loss: 0.1139 - accuracy: 0.9732\n"
     ]
    },
    {
     "data": {
      "image/png": "[encoded data removed]",
      "text/plain": [
       "<Figure size 432x288 with 1 Axes>"
      ]
     },
     "metadata": {
      "needs_background": "light"
     },
     "output_type": "display_data"
    }
   ],
   "source": [
    "plt.plot(history.history['accuracy'], label='accuracy')\n",
    "plt.plot(history.history['val_accuracy'], label = 'val_accuracy')\n",
    "plt.xlabel('Epoch')\n",
    "plt.ylabel('Accuracy')\n",
    "plt.ylim([0.5, 1])\n",
    "plt.legend(loc='lower right')\n",
    "\n",
    "test_loss, test_acc = model.evaluate(test_images,  test_labels, verbose=2)"
   ]
  },
  {
   "cell_type": "markdown",
   "metadata": {},
   "source": [
    "As we can see from the plot above, the train accuracy and the test accuracy seem to reach an asymptotic region as the training epochs increase.\n",
    "\n",
    "In particular I noticed that if I kept training the model for more epochs, or more steps, I could not never go above an test accuracy above 98%, and eventually the at a certain point the test accuracy started decreasing with more training. As a matter of fact the result of more training was only a higher training accuracy which points out to over-fitting of the training dataset. \n",
    "\n",
    "As we can see at the far right of the plot, the train accuracy is about to overcome the test accuracy, signaling that further training would now lead to over-fitting instead of higher test accuracy, which as reached his maximum value. \n",
    "\n",
    "I chose to use a convolutional layer with 18 filters and a 3x3 kernel, and a dense layer of 30 neurons, to achieve model that could reach a test accuracy close to 98%, and do so with a number of parameters < 100,000. The number of parameters is a direct estimation of the computing power the model requires. I also added a pooling layer with a 2x2 kernel do drastically reduce the number of parameters.\n",
    "\n",
    "finally I trained the model for 5 epochs and 500 steps per epoch. I found that these values allow to quickly achieve a high test accuracy in about 30 seconds of training, and stop the training just before over-fitting starts to happen. "
   ]
  },
  {
   "cell_type": "markdown",
   "metadata": {},
   "source": [
    "## Task 2\n",
    "\n",
    "### Build the model\n",
    "\n",
    "Now we will use more convolutional layers in our model"
   ]
  },
  {
   "cell_type": "code",
   "execution_count": 45,
   "metadata": {},
   "outputs": [
    {
     "name": "stdout",
     "output_type": "stream",
     "text": [
      "Model: \"sequential_23\"\n",
      "_________________________________________________________________\n",
      "Layer (type)                 Output Shape              Param #   \n",
      "=================================================================\n",
      "conv2d_37 (Conv2D)           (None, 26, 26, 18)        180       \n",
      "_________________________________________________________________\n",
      "max_pooling2d_25 (MaxPooling (None, 13, 13, 18)        0         \n",
      "_________________________________________________________________\n",
      "conv2d_38 (Conv2D)           (None, 11, 11, 28)        4564      \n",
      "_________________________________________________________________\n",
      "max_pooling2d_26 (MaxPooling (None, 5, 5, 28)          0         \n",
      "_________________________________________________________________\n",
      "conv2d_39 (Conv2D)           (None, 3, 3, 28)          7084      \n",
      "_________________________________________________________________\n",
      "flatten_22 (Flatten)         (None, 252)               0         \n",
      "_________________________________________________________________\n",
      "dense_44 (Dense)             (None, 30)                7590      \n",
      "_________________________________________________________________\n",
      "dense_45 (Dense)             (None, 10)                310       \n",
      "=================================================================\n",
      "Total params: 19,728\n",
      "Trainable params: 19,728\n",
      "Non-trainable params: 0\n",
      "_________________________________________________________________\n",
      "Epoch 1/5\n",
      "500/500 [==============================] - 15s 29ms/step - loss: 0.5645 - accuracy: 0.8727 - val_loss: 0.1126 - val_accuracy: 0.9658\n",
      "Epoch 2/5\n",
      "500/500 [==============================] - 14s 28ms/step - loss: 0.1056 - accuracy: 0.9690 - val_loss: 0.0769 - val_accuracy: 0.9760\n",
      "Epoch 3/5\n",
      "500/500 [==============================] - 14s 28ms/step - loss: 0.0730 - accuracy: 0.9779 - val_loss: 0.0751 - val_accuracy: 0.9779\n",
      "Epoch 4/5\n",
      "500/500 [==============================] - 13s 27ms/step - loss: 0.0579 - accuracy: 0.9818 - val_loss: 0.0601 - val_accuracy: 0.9811\n",
      "Epoch 5/5\n",
      "500/500 [==============================] - 14s 27ms/step - loss: 0.0437 - accuracy: 0.9866 - val_loss: 0.0501 - val_accuracy: 0.9839\n"
     ]
    }
   ],
   "source": [
    "model = keras.models.Sequential()\n",
    "model.add(keras.layers.Conv2D(18, (3, 3), activation='relu', input_shape=(28, 28,1)))\n",
    "model.add(keras.layers.MaxPooling2D((2, 2)))\n",
    "model.add(keras.layers.Conv2D(28, (3, 3), activation='relu', input_shape=(28, 28,1)))\n",
    "model.add(keras.layers.MaxPooling2D((2, 2)))\n",
    "model.add(keras.layers.Conv2D(28, (3, 3), activation='relu', input_shape=(28, 28,1)))\n",
    "model.add(keras.layers.Flatten())\n",
    "model.add(keras.layers.Dense(30, activation='relu'))\n",
    "model.add(keras.layers.Dense(10))\n",
    "\n",
    "model.summary()\n",
    "\n",
    "\n",
    "model.compile(optimizer='adam',\n",
    "              loss=tf.keras.losses.SparseCategoricalCrossentropy(from_logits=True),\n",
    "              metrics=['accuracy'])\n",
    "\n",
    "history = model.fit(train_images, train_labels, epochs=5, \n",
    "                    validation_data=(test_images, test_labels),steps_per_epoch=500)"
   ]
  },
  {
   "cell_type": "code",
   "execution_count": 46,
   "metadata": {},
   "outputs": [
    {
     "name": "stdout",
     "output_type": "stream",
     "text": [
      "313/313 - 0s - loss: 0.0501 - accuracy: 0.9839\n"
     ]
    },
    {
     "data": {
      "image/png": "[encoded data removed]",
      "text/plain": [
       "<Figure size 432x288 with 1 Axes>"
      ]
     },
     "metadata": {
      "needs_background": "light"
     },
     "output_type": "display_data"
    }
   ],
   "source": [
    "plt.plot(history.history['accuracy'], label='accuracy')\n",
    "plt.plot(history.history['val_accuracy'], label = 'val_accuracy')\n",
    "plt.xlabel('Epoch')\n",
    "plt.ylabel('Accuracy')\n",
    "plt.ylim([0.5, 1])\n",
    "plt.legend(loc='lower right')\n",
    "\n",
    "test_loss, test_acc = model.evaluate(test_images,  test_labels, verbose=2)"
   ]
  },
  {
   "cell_type": "markdown",
   "metadata": {},
   "source": [
    "As we can see from the plot above, the train accuracy and the test accuracy seem to reach an asymptotic region as the training epochs increase.\n",
    "\n",
    "In particular I noticed that if I kept training the model for more epochs, or more steps, I could not never go above an test accuracy above 99%, and eventually the at a certain point the test accuracy started decreasing with more training. As a matter of fact the result of more training was only a higher training accuracy which points out to over-fitting of the training dataset. \n",
    "\n",
    "In this case adding arbitrarily more convolutional layers lead only to an increase of about 1% in the maximum test accuracy that we can achieve.\n",
    "\n",
    "As we can see at the far right of the plot, the train accuracy is about to overcome the test accuracy, signaling that further training would now lead to over-fitting instead of higher test accuracy, which as reached his maximum value. \n",
    "\n",
    "I chose to use 3 convolutional layer with progressively more filters and a 3x3 kernel, and a dense layer of 30 neurons, to achieve model that could reach a test accuracy above 98%%, and do so with a number of parameters < 20,000. Since the number of parameters is a direct estimation of the computing power the model requires, this model with 3 convolutional is more computationally efficient than the one layer model which used 5 times as many parameters\n",
    "\n",
    "Finally increasing the number of convolutional and pooling layers allow to achieve a similar test accuracy however with a much smaller number of parameters, hence making the model more efficient."
   ]
  }
 ],
 "metadata": {
  "kernelspec": {
   "display_name": "Python 3 (ipykernel)",
   "language": "python",
   "name": "python3"
  },
  "language_info": {
   "codemirror_mode": {
    "name": "ipython",
    "version": 3
   },
   "file_extension": ".py",
   "mimetype": "text/x-python",
   "name": "python",
   "nbconvert_exporter": "python",
   "pygments_lexer": "ipython3",
   "version": "3.9.7"
  }
 },
 "nbformat": 4,
 "nbformat_minor": 4
}
